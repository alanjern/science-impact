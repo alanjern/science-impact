{
 "cells": [
  {
   "cell_type": "markdown",
   "id": "9744d633-572a-4d55-a718-0df40853dd12",
   "metadata": {},
   "source": [
    "This script makes requires installation of the [`woslite_py_client`](https://github.com/Clarivate-SAR/woslite_py_client), a tool for making queries to the [Web of Science](https://clarivate.com/webofsciencegroup/solutions/web-of-science/). As noted below, use of this API requires authorization, which may not be free (I obtained it through my institution)."
   ]
  },
  {
   "cell_type": "code",
   "execution_count": 1,
   "id": "4ed2d699-f0fc-4f0f-b4bc-61b1e734466b",
   "metadata": {},
   "outputs": [],
   "source": [
    "from __future__ import print_function\n",
    "import time\n",
    "import woslite_client\n",
    "import json\n",
    "import pandas as pd\n",
    "import numpy as np\n",
    "from woslite_client.rest import ApiException\n",
    "from progressbar import progressbar\n",
    "#from pprint import pprint"
   ]
  },
  {
   "cell_type": "markdown",
   "id": "14522fad-7dba-4c2c-a464-4a23e9ab3f39",
   "metadata": {},
   "source": [
    "Read in the API key from an external file named `wos-api-key.csv` that has a single column and two rows organized as follows:\n",
    "\n",
    "| X-APIKey |\n",
    "------------\n",
    "| [key]    |"
   ]
  },
  {
   "cell_type": "code",
   "execution_count": 2,
   "id": "efbbdcac-dd63-453b-8955-bf039d273a57",
   "metadata": {},
   "outputs": [],
   "source": [
    "# Configure API key authorization: key\n",
    "configuration = woslite_client.Configuration()\n",
    "\n",
    "api_key = pd.read_csv(\"wos-api-key.csv\")\n",
    "configuration.api_key['X-ApiKey'] = api_key['X-APIKey'][0]\n",
    "# Uncomment below to setup prefix (e.g. Bearer) for API key, if needed\n",
    "# configuration.api_key_prefix['X-ApiKey'] = 'Bearer'\n"
   ]
  },
  {
   "cell_type": "code",
   "execution_count": 3,
   "id": "58c3a2b4-39ff-4d2a-b357-6def39ca24d4",
   "metadata": {},
   "outputs": [],
   "source": [
    "# Create an instance of the API class\n",
    "api_instance = woslite_client.SearchApi(woslite_client.ApiClient(configuration))\n",
    "database_id = 'WOS' # str | Database to search. Must be a valid database ID, one of the following: BCI/BIOABS/BIOSIS/CCC/DCI/DIIDW/MEDLINE/WOK/WOS/ZOOREC. WOK represents all databases.\n"
   ]
  },
  {
   "cell_type": "code",
   "execution_count": 15,
   "id": "64bdc6c7-ff6e-432a-8b87-e9d61b2b4c0a",
   "metadata": {},
   "outputs": [
    {
     "name": "stderr",
     "output_type": "stream",
     "text": [
      "N/A% (0 of 4) |                          | Elapsed Time: 0:00:00 ETA:  --:--:--"
     ]
    },
    {
     "name": "stdout",
     "output_type": "stream",
     "text": [
      "physics\n",
      "2000\n"
     ]
    },
    {
     "name": "stderr",
     "output_type": "stream",
     "text": [
      " 25% (1 of 4) |######                    | Elapsed Time: 0:36:00 ETA:   1:48:01"
     ]
    },
    {
     "name": "stdout",
     "output_type": "stream",
     "text": [
      "2005\n"
     ]
    },
    {
     "name": "stderr",
     "output_type": "stream",
     "text": [
      " 50% (2 of 4) |#############             | Elapsed Time: 1:15:03 ETA:   1:18:05"
     ]
    },
    {
     "name": "stdout",
     "output_type": "stream",
     "text": [
      "2010\n"
     ]
    },
    {
     "name": "stderr",
     "output_type": "stream",
     "text": [
      "2021-07-22 19:28:46,702 WARNING Retrying (Retry(total=2, connect=None, read=None, redirect=None, status=None)) after connection broken by 'ReadTimeoutError(\"HTTPSConnectionPool(host='api.clarivate.com', port=443): Read timed out. (read timeout=None)\")': /api/woslite/?databaseId=WOS&usrQuery=%28WC%3D%28physics%29%29+AND+%28PY%3D%3D%28%222010%22%29+AND+DT%3D%3D%28%22ARTICLE%22%29%29&count=100&firstRecord=60101\n",
      " 75% (3 of 4) |###################       | Elapsed Time: 2:14:16 ETA:   0:59:13"
     ]
    },
    {
     "name": "stdout",
     "output_type": "stream",
     "text": [
      "2015\n"
     ]
    },
    {
     "name": "stderr",
     "output_type": "stream",
     "text": [
      "100% (4 of 4) |##########################| Elapsed Time: 2:39:33 Time:  2:39:33\n",
      "N/A% (0 of 4) |                          | Elapsed Time: 0:00:00 ETA:  --:--:--"
     ]
    },
    {
     "name": "stdout",
     "output_type": "stream",
     "text": [
      "psychology\n",
      "2000\n"
     ]
    },
    {
     "name": "stderr",
     "output_type": "stream",
     "text": [
      " 25% (1 of 4) |######                    | Elapsed Time: 0:01:05 ETA:   0:03:17"
     ]
    },
    {
     "name": "stdout",
     "output_type": "stream",
     "text": [
      "2005\n"
     ]
    },
    {
     "name": "stderr",
     "output_type": "stream",
     "text": [
      " 50% (2 of 4) |#############             | Elapsed Time: 0:02:12 ETA:   0:02:13"
     ]
    },
    {
     "name": "stdout",
     "output_type": "stream",
     "text": [
      "2010\n"
     ]
    },
    {
     "name": "stderr",
     "output_type": "stream",
     "text": [
      " 75% (3 of 4) |###################       | Elapsed Time: 0:04:05 ETA:   0:01:53"
     ]
    },
    {
     "name": "stdout",
     "output_type": "stream",
     "text": [
      "2015\n"
     ]
    },
    {
     "name": "stderr",
     "output_type": "stream",
     "text": [
      "100% (4 of 4) |##########################| Elapsed Time: 0:06:59 Time:  0:06:59\n",
      "N/A% (0 of 4) |                          | Elapsed Time: 0:00:00 ETA:  --:--:--"
     ]
    },
    {
     "name": "stdout",
     "output_type": "stream",
     "text": [
      "biology\n",
      "2000\n"
     ]
    },
    {
     "name": "stderr",
     "output_type": "stream",
     "text": [
      " 25% (1 of 4) |######                    | Elapsed Time: 0:04:17 ETA:   0:12:51"
     ]
    },
    {
     "name": "stdout",
     "output_type": "stream",
     "text": [
      "2005\n"
     ]
    },
    {
     "name": "stderr",
     "output_type": "stream",
     "text": [
      " 50% (2 of 4) |#############             | Elapsed Time: 0:09:08 ETA:   0:09:43"
     ]
    },
    {
     "name": "stdout",
     "output_type": "stream",
     "text": [
      "2010\n"
     ]
    },
    {
     "name": "stderr",
     "output_type": "stream",
     "text": [
      " 75% (3 of 4) |###################       | Elapsed Time: 0:16:08 ETA:   0:07:00"
     ]
    },
    {
     "name": "stdout",
     "output_type": "stream",
     "text": [
      "2015\n"
     ]
    },
    {
     "name": "stderr",
     "output_type": "stream",
     "text": [
      "100% (4 of 4) |##########################| Elapsed Time: 0:24:37 Time:  0:24:37\n",
      "N/A% (0 of 4) |                          | Elapsed Time: 0:00:00 ETA:  --:--:--"
     ]
    },
    {
     "name": "stdout",
     "output_type": "stream",
     "text": [
      "philosophy\n",
      "2000\n"
     ]
    },
    {
     "name": "stderr",
     "output_type": "stream",
     "text": [
      " 25% (1 of 4) |######                    | Elapsed Time: 0:00:11 ETA:   0:00:34"
     ]
    },
    {
     "name": "stdout",
     "output_type": "stream",
     "text": [
      "2005\n"
     ]
    },
    {
     "name": "stderr",
     "output_type": "stream",
     "text": [
      " 50% (2 of 4) |#############             | Elapsed Time: 0:00:22 ETA:   0:00:21"
     ]
    },
    {
     "name": "stdout",
     "output_type": "stream",
     "text": [
      "2010\n"
     ]
    },
    {
     "name": "stderr",
     "output_type": "stream",
     "text": [
      " 75% (3 of 4) |###################       | Elapsed Time: 0:00:42 ETA:   0:00:20"
     ]
    },
    {
     "name": "stdout",
     "output_type": "stream",
     "text": [
      "2015\n"
     ]
    },
    {
     "name": "stderr",
     "output_type": "stream",
     "text": [
      "100% (4 of 4) |##########################| Elapsed Time: 0:01:21 Time:  0:01:21\n",
      "N/A% (0 of 4) |                          | Elapsed Time: 0:00:00 ETA:  --:--:--"
     ]
    },
    {
     "name": "stdout",
     "output_type": "stream",
     "text": [
      "economics\n",
      "2000\n"
     ]
    },
    {
     "name": "stderr",
     "output_type": "stream",
     "text": [
      " 25% (1 of 4) |######                    | Elapsed Time: 0:00:27 ETA:   0:01:23"
     ]
    },
    {
     "name": "stdout",
     "output_type": "stream",
     "text": [
      "2005\n"
     ]
    },
    {
     "name": "stderr",
     "output_type": "stream",
     "text": [
      " 50% (2 of 4) |#############             | Elapsed Time: 0:00:57 ETA:   0:00:59"
     ]
    },
    {
     "name": "stdout",
     "output_type": "stream",
     "text": [
      "2010\n"
     ]
    },
    {
     "name": "stderr",
     "output_type": "stream",
     "text": [
      " 75% (3 of 4) |###################       | Elapsed Time: 0:01:58 ETA:   0:01:01"
     ]
    },
    {
     "name": "stdout",
     "output_type": "stream",
     "text": [
      "2015\n"
     ]
    },
    {
     "name": "stderr",
     "output_type": "stream",
     "text": [
      "100% (4 of 4) |##########################| Elapsed Time: 0:03:27 Time:  0:03:27\n",
      "100% (5 of 5) |##########################| Elapsed Time: 3:16:00 Time:  3:16:00\n"
     ]
    }
   ],
   "source": [
    "years = ['2000','2005','2010','2015'] # years to search\n",
    "subjects = ['physics','psychology','biology','philosophy','economics'] # subjects to search\n",
    "\n",
    "count = 100 # Number of records to return, must be 0-100.\n",
    "\n",
    "# lang = 'lang_example' # str | Language of search. This element can take only one value: en for English. If no language is specified, English is passed by default. (optional)\n",
    "# edition = 'edition_example' # str | Edition(s) to be searched. If null, user permissions will be substituted. Must include the name of the collection and edition name separated by '+', ex: WOS+SCI. Multiple editions are separated by ','. Editions available for collection(WOS) - AHCI,CCR,IC,ISSHP,ISTP,SCI,SSCI,BHCI,BSCI and ESCI. (optional)\n",
    "# publish_time_span = 'publish_time_span_example' # str | This element specifies a range of publication dates. If publishTimeSpan is used, the loadTimeSpan parameter must be omitted. If publishTimeSpan and loadTimeSpan are both omitted, then the maximum time span will be inferred from the editions data. Beginning and end dates should be specified in the yyyy-mm-dd format separated by +, ex: 1993-01-01+2009-12-31. (optional)\n",
    "# load_time_span = 'load_time_span_example' # str | Load time span (otherwise described as symbolic time span) defines a range of load dates. The load date is the date a record was added to the database. If load date is specified, the publishTimeSpan parameter must be omitted. If both publishTimeSpan and loadTimeSpan are omitted, the maximum publication date will be inferred from the editions data. Any of D/W/M/Y prefixed with a number where D-Day, M-Month, W-Week, Y-Year allowed. Acceptable value range for Day(0-6), Week(1-52), Month(1-12) and Year(0-10), ex: 5D,30W,10M,8Y. (optional)\n",
    "# sort_field = 'sort_field_example' # str | Order by field(s). Field name and order by clause separated by '+', use A for ASC and D for DESC, ex: PY+D. Multiple values are separated by comma. (optional)\n",
    "\n",
    "\n",
    "records = list() # Store all returned records in a list\n",
    "\n",
    "for subject in progressbar(subjects):\n",
    "    print(subject)\n",
    "    \n",
    "    for year in progressbar(years):\n",
    "        print(year)\n",
    "        \n",
    "        first_record = 1 # First record to return, must be between 1-100000\n",
    "        count = 100 # Number of records to return, must be 0-100.\n",
    "        total_records = np.Inf\n",
    "        \n",
    "        while (first_record <= total_records and first_record <= 100000):\n",
    "        \n",
    "            query = '(WC=(' + subject + ')) AND (PY==(\\\"' + year + '\\\") AND DT==(\\\"ARTICLE\\\"))'\n",
    "            try:\n",
    "                # Submits a user query and returns results\n",
    "                api_response = api_instance.root_get(database_id, query, count, first_record)\n",
    "            except ApiException as e:\n",
    "                print(\"Exception when calling SearchApi->root_get: %s\\n\" % e)\n",
    "                print(total_records)\n",
    "                print(first_record)\n",
    "                print(count)\n",
    "            \n",
    "            # Get the total number of records\n",
    "            total_records = api_response.query_result.records_found\n",
    "            \n",
    "            for pi in range(0,count):\n",
    "                record_data = api_response.data[pi]\n",
    "                doi = record_data.other.identifier_doi\n",
    "                published_month = record_data.source.published_biblio_date\n",
    "                published_year = record_data.source.published_biblio_year\n",
    "                ut = record_data.ut\n",
    "\n",
    "                paper_df = pd.DataFrame(\n",
    "                    {\n",
    "                        \"DOI\": doi,\n",
    "                        \"UT\": ut,\n",
    "                        \"Published_Month\": published_month,\n",
    "                        \"Published_Year\": published_year,\n",
    "                        \"Subject\": subject\n",
    "                    }\n",
    "                )\n",
    "                records.append(paper_df)\n",
    "        \n",
    "            first_record += count\n",
    "            \n",
    "            # if we've reached the end of the list, shorten the count\n",
    "            if (first_record + count - 1 > total_records):\n",
    "                count = total_records - (first_record - 1)\n",
    "        \n",
    "# Glue all the records together into a big data frame\n",
    "papers = pd.concat(records)"
   ]
  },
  {
   "cell_type": "code",
   "execution_count": 32,
   "id": "05a12d12-d2ca-4f20-a390-8bb82df47916",
   "metadata": {},
   "outputs": [],
   "source": [
    "# Add a unique index to each row and write to a csv file\n",
    "\n",
    "papers.reset_index(drop=True, inplace=True)\n",
    "papers.to_csv(\"wos-records.csv\")"
   ]
  }
 ],
 "metadata": {
  "kernelspec": {
   "display_name": "Python 3",
   "language": "python",
   "name": "python3"
  },
  "language_info": {
   "codemirror_mode": {
    "name": "ipython",
    "version": 3
   },
   "file_extension": ".py",
   "mimetype": "text/x-python",
   "name": "python",
   "nbconvert_exporter": "python",
   "pygments_lexer": "ipython3",
   "version": "3.9.1"
  }
 },
 "nbformat": 4,
 "nbformat_minor": 5
}
